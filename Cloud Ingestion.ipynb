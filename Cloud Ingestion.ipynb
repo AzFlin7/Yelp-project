{
 "cells": [
  {
   "cell_type": "code",
   "execution_count": 57,
   "metadata": {},
   "outputs": [],
   "source": [
    "import json\n",
    "import boto3\n",
    "import os"
   ]
  },
  {
   "cell_type": "code",
   "execution_count": 16,
   "metadata": {},
   "outputs": [],
   "source": [
    "#Reading configuration file\n",
    "config_file = os.path.join(os.getcwd() , 'config.json')\n",
    "with open(config_file) as c:\n",
    "    credentials = json.load(c)\n",
    "    \n",
    "#Setting AcessKey and Secret Key to access s3 buckets.\n",
    "ACESSKEY =  credentials['AWS']['AcessKey']\n",
    "SECRETKEY = credentials['AWS']['AWSSecretKey']"
   ]
  },
  {
   "cell_type": "code",
   "execution_count": 187,
   "metadata": {},
   "outputs": [],
   "source": [
    "# Creating a client to interact with s3 services\n",
    "client = boto3.client('s3', aws_access_key_id = ACESSKEY, aws_secret_access_key = SECRETKEY)\n",
    "response = client.list_buckets()\n",
    "\n",
    "#Fetching the already created bucket name to upload the files into.\n",
    "bucket_name = response['Buckets'][0]['Name']\n",
    "\n",
    "#Local path where data lake is stored.\n",
    "lake_directory = credentials['local_paths']['lake_path']\n",
    "\n",
    "\n",
    "#Fetching all the subdirectories(modules) in datalake\n",
    "sub_directories = [val[0] for val in os.walk(lake_directory)][1:]"
   ]
  },
  {
   "cell_type": "code",
   "execution_count": 189,
   "metadata": {},
   "outputs": [
    {
     "name": "stdout",
     "output_type": "stream",
     "text": [
      "Success !! Upload of business dataset successfull.\n",
      "Success !! Upload of business_attribute dataset successfull.\n",
      "Success !! Upload of checkin dataset successfull.\n",
      "Success !! Upload of opening_time dataset successfull.\n",
      "Success !! Upload of photo dataset successfull.\n",
      "Success !! Upload of review dataset successfull.\n",
      "Success !! Upload of tip_files dataset successfull.\n",
      "Success !! Upload of user dataset successfull.\n"
     ]
    }
   ],
   "source": [
    "for directories in sub_directories:\n",
    "    for sub_files in os.walk(directories):\n",
    "        s3_folder = directories.split('/')[3]\n",
    "        for files in sub_files[2]:\n",
    "            file_path = os.path.join(lake_directory + s3_folder + '/' + files)\n",
    "            client.upload_file(file_path , bucket_name , (s3_folder+'/' + files))\n",
    "    \n",
    "    #Verifying Data Upload\n",
    "    if verify_upload(s3_folder):\n",
    "        print(\"Success !! Upload of \"+ s3_folder + \" dataset successfull.\")\n",
    "    else:\n",
    "        print(\"Failure. Upload of \" + s3_folder + \" Failed.\")"
   ]
  },
  {
   "cell_type": "code",
   "execution_count": 181,
   "metadata": {},
   "outputs": [],
   "source": [
    "def verify_upload(dataset_name):\n",
    "    total_files_in_local = 0\n",
    "    total_files_in_s3 = 0\n",
    "    file_list_from_local = []\n",
    "    file_list_from_s3 = []\n",
    "    \n",
    "    #Fetching number of files in local\n",
    "    full_local_path = os.path.join(lake_directory , dataset_name)\n",
    "    total_files_in_local = [len(val[2]) for val in os.walk(full_local_path)]\n",
    "    \n",
    "    \n",
    "    #Fetching number of files in s3\n",
    "    request = client.list_objects(Bucket = bucket_name , Prefix = dataset_name)\n",
    "    total_files_in_s3 = len(request['Contents'])\n",
    "    \n",
    "    #Validating File names\n",
    "    file_list_from_local = [val[2] for val in os.walk(full_local_path)][0]\n",
    "    \n",
    "    file_list_from_s3 = [content['Key'].split('/')[-1] for content in request['Contents']]\n",
    "    \n",
    "    if set(file_list_from_local).difference(set(file_list_from_s3)) == set([]):\n",
    "        return True\n",
    "    else:\n",
    "        return False"
   ]
  },
  {
   "cell_type": "code",
   "execution_count": 182,
   "metadata": {},
   "outputs": [
    {
     "data": {
      "text/plain": [
       "True"
      ]
     },
     "execution_count": 182,
     "metadata": {},
     "output_type": "execute_result"
    }
   ],
   "source": [
    "verify_upload('business_attribute')"
   ]
  }
 ],
 "metadata": {
  "kernelspec": {
   "display_name": "Python 3",
   "language": "python",
   "name": "python3"
  },
  "language_info": {
   "codemirror_mode": {
    "name": "ipython",
    "version": 3
   },
   "file_extension": ".py",
   "mimetype": "text/x-python",
   "name": "python",
   "nbconvert_exporter": "python",
   "pygments_lexer": "ipython3",
   "version": "3.7.0"
  }
 },
 "nbformat": 4,
 "nbformat_minor": 2
}
