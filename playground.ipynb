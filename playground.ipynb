{
 "cells": [
  {
   "cell_type": "code",
   "execution_count": 1,
   "metadata": {},
   "outputs": [],
   "source": [
    "import pyarrow as py\n",
    "import json\n",
    "import os\n",
    "import pandas as pd\n",
    "from pyarrow import parquet\n",
    "import logging"
   ]
  },
  {
   "cell_type": "code",
   "execution_count": 3,
   "metadata": {},
   "outputs": [],
   "source": [
    "file = open(\"C://Users/Sanchit Kumar/Jupyter_Notebook/Yelp_Project/config.json\")\n",
    "config = json.load(file)\n",
    "parquet_file = os.path.join(config['local_paths']['lake_path'],  'user')"
   ]
  },
  {
   "cell_type": "code",
   "execution_count": 16,
   "metadata": {},
   "outputs": [],
   "source": [
    "val = py.parquet.ParquetFile('D:/Capstone/Lake/user/part-00000-9e2cc6ee-07cf-4294-8dda-5e608549c906-c000.snappy.parquet').schema"
   ]
  },
  {
   "cell_type": "code",
   "execution_count": 17,
   "metadata": {},
   "outputs": [
    {
     "name": "stdout",
     "output_type": "stream",
     "text": [
      "average_stars   DOUBLE\n",
      "compliment_cool   INT64\n",
      "compliment_cute   INT64\n",
      "compliment_funny   INT64\n",
      "compliment_hot   INT64\n",
      "compliment_list   INT64\n",
      "compliment_more   INT64\n",
      "compliment_note   INT64\n",
      "compliment_photos   INT64\n",
      "compliment_plain   INT64\n",
      "compliment_profile   INT64\n",
      "compliment_writer   INT64\n",
      "cool   INT64\n",
      "elite   BYTE_ARRAY\n",
      "fans   INT64\n",
      "friends   BYTE_ARRAY\n",
      "funny   INT64\n",
      "name   BYTE_ARRAY\n",
      "review_count   INT64\n",
      "useful   INT64\n",
      "user_id   BYTE_ARRAY\n",
      "yelping_since   BYTE_ARRAY\n"
     ]
    }
   ],
   "source": [
    "for parquet_Schema in val:\n",
    "    col_name = parquet_Schema.name\n",
    "    col_type = parquet_Schema.physical_type\n",
    "    print(col_name , \" \" , col_type)"
   ]
  },
  {
   "cell_type": "code",
   "execution_count": 18,
   "metadata": {},
   "outputs": [],
   "source": [
    "df = pd.read_parquet(parquet_file)"
   ]
  },
  {
   "cell_type": "code",
   "execution_count": 26,
   "metadata": {},
   "outputs": [
    {
     "name": "stdout",
     "output_type": "stream",
     "text": [
      "average_stars,compliment_cool,compliment_cute,compliment_funny,compliment_hot,compliment_list,compliment_more,compliment_note,compliment_photos,compliment_plain,compliment_profile,compliment_writer,cool,elite,fans,friends,funny,name,review_count,useful,user_id,yelping_since,"
     ]
    }
   ],
   "source": [
    "for column in df.columns:\n",
    "    print(column, end= \",\")"
   ]
  }
 ],
 "metadata": {
  "kernelspec": {
   "display_name": "Python 3",
   "language": "python",
   "name": "python3"
  },
  "language_info": {
   "codemirror_mode": {
    "name": "ipython",
    "version": 3
   },
   "file_extension": ".py",
   "mimetype": "text/x-python",
   "name": "python",
   "nbconvert_exporter": "python",
   "pygments_lexer": "ipython3",
   "version": "3.7.1"
  }
 },
 "nbformat": 4,
 "nbformat_minor": 2
}
